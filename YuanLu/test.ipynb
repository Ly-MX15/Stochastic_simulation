{
 "cells": [
  {
   "cell_type": "markdown",
   "metadata": {},
   "source": [
    "绘制边界"
   ]
  },
  {
   "cell_type": "code",
   "execution_count": 7,
   "metadata": {},
   "outputs": [
    {
     "name": "stderr",
     "output_type": "stream",
     "text": [
      "C:\\Users\\98398\\AppData\\Local\\Temp\\ipykernel_32700\\4061717385.py:62: ShapelyDeprecationWarning: The 'cascaded_union()' function is deprecated. Use 'unary_union()' instead.\n",
      "  return cascaded_union(triangles), edge_points\n"
     ]
    }
   ],
   "source": [
    "import numpy as np\n",
    "from scipy.spatial import Delaunay\n",
    "import shapely.geometry as geometry\n",
    "from shapely.ops import cascaded_union, polygonize\n",
    "from scipy.spatial import distance\n",
    "import numpy as np\n",
    "import matplotlib.pyplot as plt\n",
    "from shapely.geometry import box, MultiPolygon\n",
    "from shapely.geometry import Polygon, MultiPolygon\n",
    "from shapely.geometry import Point\n",
    "from shapely.ops import unary_union\n",
    "import time\n",
    "\n",
    "def alpha_shape(points, alpha=0.1):\n",
    "    \"\"\"\n",
    "    Compute the alpha shape (concave hull) of a set of points.\n",
    "    @param points: Iterable container of points.\n",
    "    @param alpha: alpha value to influence the gooeyness of the border.\n",
    "    \"\"\"\n",
    "    if len(points) < 4:\n",
    "        # When you have a triangle, there is no sense in computing an alpha shape.\n",
    "        return geometry.MultiPoint(list(points)).convex_hull\n",
    "\n",
    "    def add_edge(edges, edge_points, coords, i, j):\n",
    "        \"\"\"\n",
    "        Add a line between the i-th and j-th points,\n",
    "        if not in the list already\n",
    "        \"\"\"\n",
    "        if (i, j) in edges or (j, i) in edges:\n",
    "            # already added\n",
    "            return\n",
    "        edges.add((i, j))\n",
    "        edge_points.append(coords[[i, j]])\n",
    "\n",
    "    coords = np.array([point for point in points])\n",
    "    tri = Delaunay(coords)\n",
    "    edges = set()\n",
    "    edge_points = []\n",
    "    # loop over triangles:\n",
    "    # ia, ib, ic = indices of corner points of the triangle\n",
    "    for ia, ib, ic in tri.simplices:\n",
    "        pa = coords[ia]\n",
    "        pb = coords[ib]\n",
    "        pc = coords[ic]\n",
    "        # Lengths of sides of triangle\n",
    "        a = distance.euclidean(pa, pb)\n",
    "        b = distance.euclidean(pb, pc)\n",
    "        c = distance.euclidean(pc, pa)\n",
    "        # Semiperimeter of triangle\n",
    "        s = (a + b + c) / 2.0\n",
    "        # Area of triangle by Heron's formula\n",
    "        area = np.sqrt(s * (s - a) * (s - b) * (s - c))\n",
    "        circum_r = a * b * c / (4.0 * area)\n",
    "        # Here's the radius filter.\n",
    "        #print circum_r\n",
    "        if circum_r < 1.0 / alpha:\n",
    "            add_edge(edges, edge_points, coords, ia, ib)\n",
    "            add_edge(edges, edge_points, coords, ib, ic)\n",
    "            add_edge(edges, edge_points, coords, ic, ia)\n",
    "    m = geometry.MultiLineString(edge_points)\n",
    "    triangles = list(polygonize(m))\n",
    "    return cascaded_union(triangles), edge_points\n",
    "\n",
    "# 示例点集\n",
    "points = np.random.rand(100, 2)  # 示例数据，替换为您的boundary_points\n",
    "alpha = 0.1  # α值，需要根据实际情况调整\n",
    "\n",
    "concave_hull, edge_points = alpha_shape(points, alpha=alpha)\n",
    "\n",
    "\n",
    "# 此处可以绘制结果或进一步处理\n"
   ]
  },
  {
   "cell_type": "markdown",
   "metadata": {},
   "source": [
    "可视化"
   ]
  },
  {
   "cell_type": "code",
   "execution_count": 8,
   "metadata": {},
   "outputs": [],
   "source": [
    "def visualize_space(merged_rectangles, ax, color='blue'):\n",
    "    # 如果是单个 Polygon，将其放入一个列表中\n",
    "    if isinstance(merged_rectangles, Polygon):\n",
    "        merged_rectangles = [merged_rectangles]\n",
    "    # 如果是 MultiPolygon，提取每个 Polygon\n",
    "    elif isinstance(merged_rectangles, MultiPolygon):\n",
    "        merged_rectangles = [polygon for polygon in merged_rectangles.geoms]\n",
    "\n",
    "    # 绘制并填充每个多边形\n",
    "    for polygon in merged_rectangles:\n",
    "        x, y = polygon.exterior.xy\n",
    "        ax.fill(x, y, color=color, alpha=0.5)  # 填充外部多边形\n",
    "\n",
    "        for interior in polygon.interiors:\n",
    "            x, y = interior.xy\n",
    "            ax.fill(x, y, color='white', alpha=1)  # 使用白色填充内部多边形以创建空洞效果"
   ]
  },
  {
   "cell_type": "markdown",
   "metadata": {},
   "source": [
    "集体例子"
   ]
  },
  {
   "cell_type": "code",
   "execution_count": 11,
   "metadata": {},
   "outputs": [
    {
     "data": {
      "image/png": "[encoded data removed]",
      "text/plain": [
       "<Figure size 640x480 with 1 Axes>"
      ]
     },
     "metadata": {},
     "output_type": "display_data"
    }
   ],
   "source": [
    "fig, ax = plt.subplots()\n",
    "visualize_space(concave_hull, ax, color='red')    # 外部空间为红色\n",
    "\n",
    "\n",
    "# 设置图像的x和y边界\n",
    "ax.set_xlabel('X-axis')\n",
    "ax.set_ylabel('Y-axis')\n",
    "ax.set_title('Visualized Spaces')\n",
    "plt.gca().set_aspect('equal', adjustable='box')\n",
    "plt.show()"
   ]
  }
 ],
 "metadata": {
  "kernelspec": {
   "display_name": "base",
   "language": "python",
   "name": "python3"
  },
  "language_info": {
   "codemirror_mode": {
    "name": "ipython",
    "version": 3
   },
   "file_extension": ".py",
   "mimetype": "text/x-python",
   "name": "python",
   "nbconvert_exporter": "python",
   "pygments_lexer": "ipython3",
   "version": "3.9.13"
  }
 },
 "nbformat": 4,
 "nbformat_minor": 2
}
